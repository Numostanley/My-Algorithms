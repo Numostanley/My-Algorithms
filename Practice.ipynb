{
 "cells": [
  {
   "cell_type": "code",
   "execution_count": 39,
   "metadata": {},
   "outputs": [],
   "source": [
    "class Car:\n",
    "    def __init__(self):\n",
    "        self.name = \"\"\n",
    "        self.model = \"\"\n",
    "        self.speed = \"\"\n",
    "        self.color = \"\"\n",
    "        \n",
    "    def full_spec(self):\n",
    "        return f\"{self.name} {self.model}\"\n",
    "    \n",
    "    def multiply_speed(self):\n",
    "        speed_value, unit = self.speed.split(\"/\")\n",
    "        return int(speed_value) * 2"
   ]
  },
  {
   "cell_type": "code",
   "execution_count": 40,
   "metadata": {},
   "outputs": [],
   "source": [
    "car1 = Car()\n",
    "car2 = Car()"
   ]
  },
  {
   "cell_type": "code",
   "execution_count": 41,
   "metadata": {},
   "outputs": [],
   "source": [
    "car1.name = \"Toyota\"\n",
    "car1.model = \"Rav4\"\n",
    "car1.speed = \"80/mph\"\n",
    "car1.color = \"Silver\""
   ]
  },
  {
   "cell_type": "code",
   "execution_count": 11,
   "metadata": {},
   "outputs": [
    {
     "data": {
      "text/plain": [
       "'Rav4'"
      ]
     },
     "execution_count": 11,
     "metadata": {},
     "output_type": "execute_result"
    }
   ],
   "source": [
    "car1.model"
   ]
  },
  {
   "cell_type": "code",
   "execution_count": 16,
   "metadata": {},
   "outputs": [
    {
     "data": {
      "text/plain": [
       "'Vehicle'"
      ]
     },
     "execution_count": 16,
     "metadata": {},
     "output_type": "execute_result"
    }
   ],
   "source": [
    "car1.var_name"
   ]
  },
  {
   "cell_type": "code",
   "execution_count": 26,
   "metadata": {},
   "outputs": [
    {
     "data": {
      "text/plain": [
       "'Toyota Rav4 Vehicle'"
      ]
     },
     "execution_count": 26,
     "metadata": {},
     "output_type": "execute_result"
    }
   ],
   "source": [
    "car1.full_spec()"
   ]
  },
  {
   "cell_type": "code",
   "execution_count": 42,
   "metadata": {},
   "outputs": [
    {
     "data": {
      "text/plain": [
       "160"
      ]
     },
     "execution_count": 42,
     "metadata": {},
     "output_type": "execute_result"
    }
   ],
   "source": [
    "car1.multiply_speed()"
   ]
  },
  {
   "cell_type": "code",
   "execution_count": 114,
   "metadata": {},
   "outputs": [],
   "source": [
    "class Person:\n",
    "    def __init__(self, first_name: str, last_name: str, age: str, height: str, weight: str, gender: str):\n",
    "        self.first_name = first_name\n",
    "        self.last_name = last_name\n",
    "        self.age = age\n",
    "        self.height = height\n",
    "        self.weight = weight\n",
    "        self.gender = gender\n",
    "        \n",
    "    def bmi(self):\n",
    "        formated_weight = int(self.weight.split(\"kg\")[0])\n",
    "        formated_height = float(self.height.split(\"m\")[0])\n",
    "        bmi = formated_weight / formated_height **2\n",
    "        return bmi\n",
    "    \n",
    "    @property\n",
    "    def full_name(self):\n",
    "        return f\"{self.first_name} {self.last_name}\"\n",
    "    \n",
    "    @full_name.setter\n",
    "    def full_name(self, full_name):\n",
    "        self.first_name = full_name.split(\" \")[0]\n",
    "        self.last_name = full_name.split(\" \")[1]\n",
    "        \n",
    "    def __repr__(self):\n",
    "        return f\"{self.first_name} {self.last_name}\"\n",
    "        "
   ]
  },
  {
   "cell_type": "code",
   "execution_count": 105,
   "metadata": {},
   "outputs": [],
   "source": [
    "person1 = Person(\"Charles\", \"Xavier\", \"15\", \"1.6m\", \"65kg\", \"male\")"
   ]
  },
  {
   "cell_type": "code",
   "execution_count": 74,
   "metadata": {},
   "outputs": [
    {
     "data": {
      "text/plain": [
       "25.390624999999996"
      ]
     },
     "execution_count": 74,
     "metadata": {},
     "output_type": "execute_result"
    }
   ],
   "source": [
    "person1.bmi()"
   ]
  },
  {
   "cell_type": "code",
   "execution_count": 95,
   "metadata": {},
   "outputs": [
    {
     "data": {
      "text/plain": [
       "'Bobby Greene'"
      ]
     },
     "execution_count": 95,
     "metadata": {},
     "output_type": "execute_result"
    }
   ],
   "source": [
    "person1.full_name"
   ]
  },
  {
   "cell_type": "code",
   "execution_count": 94,
   "metadata": {},
   "outputs": [],
   "source": [
    "person1.full_name = \"Bobby Greene\""
   ]
  },
  {
   "cell_type": "code",
   "execution_count": 96,
   "metadata": {},
   "outputs": [
    {
     "data": {
      "text/plain": [
       "'Bobby'"
      ]
     },
     "execution_count": 96,
     "metadata": {},
     "output_type": "execute_result"
    }
   ],
   "source": [
    "person1.first_name"
   ]
  },
  {
   "cell_type": "code",
   "execution_count": 107,
   "metadata": {},
   "outputs": [
    {
     "data": {
      "text/plain": [
       "Charles Xavier"
      ]
     },
     "execution_count": 107,
     "metadata": {},
     "output_type": "execute_result"
    }
   ],
   "source": [
    "person1"
   ]
  },
  {
   "cell_type": "code",
   "execution_count": 115,
   "metadata": {},
   "outputs": [],
   "source": [
    "person2 = Person(\"Susan\", \"Brown\", \"18\", \"2.5m\", \"67kg\", \"Female\")"
   ]
  },
  {
   "cell_type": "code",
   "execution_count": 116,
   "metadata": {},
   "outputs": [
    {
     "data": {
      "text/plain": [
       "Susan Brown"
      ]
     },
     "execution_count": 116,
     "metadata": {},
     "output_type": "execute_result"
    }
   ],
   "source": [
    "person2"
   ]
  },
  {
   "cell_type": "code",
   "execution_count": 110,
   "metadata": {},
   "outputs": [
    {
     "data": {
      "text/plain": [
       "'Susan Brown'"
      ]
     },
     "execution_count": 110,
     "metadata": {},
     "output_type": "execute_result"
    }
   ],
   "source": [
    "person2.full_name"
   ]
  },
  {
   "cell_type": "code",
   "execution_count": 142,
   "metadata": {},
   "outputs": [],
   "source": [
    "class Money:\n",
    "    def __init__(self, dollars: int, cents: int):\n",
    "        self.dollars = dollars\n",
    "        self.cents = cents\n",
    "\n",
    "    def __repr__(self) -> str:\n",
    "        return f\"{self.dollars}.{self.cents}\"\n",
    "    \n",
    "    def __add__(self, other):\n",
    "        return float(f\"{self.dollars}.{self.cents}\") + float(f\"{other.dollars}.{other.cents}\")\n",
    "    \n",
    "    def __sub__(self, other):\n",
    "        return float(f\"{self.dollars}.{self.cents}\") - float(f\"{other.dollars}.{other.cents}\")\n",
    "    \n",
    "    def __eq__(self, other):\n",
    "        return float(f\"{self.dollars}.{self.cents}\") == float(f\"{other.dollars}.{other.cents}\")\n",
    "    \n",
    "    def __ne__(self, other):\n",
    "        return float(f\"{self.dollars}.{self.cents}\") != float(f\"{other.dollars}.{other.cents}\")\n",
    "        "
   ]
  },
  {
   "cell_type": "code",
   "execution_count": 143,
   "metadata": {},
   "outputs": [],
   "source": [
    "new_money = Money(7, 25)\n",
    "new_money2 = Money(10, 17)"
   ]
  },
  {
   "cell_type": "code",
   "execution_count": 126,
   "metadata": {},
   "outputs": [
    {
     "data": {
      "text/plain": [
       "7.25"
      ]
     },
     "execution_count": 126,
     "metadata": {},
     "output_type": "execute_result"
    }
   ],
   "source": [
    "new_money"
   ]
  },
  {
   "cell_type": "code",
   "execution_count": 127,
   "metadata": {},
   "outputs": [
    {
     "data": {
      "text/plain": [
       "10.17"
      ]
     },
     "execution_count": 127,
     "metadata": {},
     "output_type": "execute_result"
    }
   ],
   "source": [
    "new_money2"
   ]
  },
  {
   "cell_type": "code",
   "execution_count": 144,
   "metadata": {},
   "outputs": [
    {
     "data": {
      "text/plain": [
       "True"
      ]
     },
     "execution_count": 144,
     "metadata": {},
     "output_type": "execute_result"
    }
   ],
   "source": [
    "new_money != new_money2"
   ]
  },
  {
   "cell_type": "code",
   "execution_count": 60,
   "metadata": {},
   "outputs": [],
   "source": [
    "class Publisher:\n",
    "    def __init__(self) -> None:\n",
    "        self.subscriber = dict()\n",
    "        \n",
    "    def register(self, who, callback):\n",
    "        self.subscriber[who] = callback\n",
    "    \n",
    "    def unregister(self, who):\n",
    "        del self.subscriber[who]\n",
    "        \n",
    "    def dispatch(self, message):\n",
    "        for callback in self.subscriber.values():\n",
    "            return callback(message)     "
   ]
  },
  {
   "cell_type": "code",
   "execution_count": 29,
   "metadata": {},
   "outputs": [],
   "source": [
    "pub = Publisher()"
   ]
  },
  {
   "cell_type": "code",
   "execution_count": 73,
   "metadata": {},
   "outputs": [
    {
     "name": "stdout",
     "output_type": "stream",
     "text": [
      "55\n",
      "555\n",
      "615\n"
     ]
    }
   ],
   "source": [
    "value = int(input(\"Enter an integer:\" ))\n",
    "\n",
    "val2 = int(f\"{value}{value}\")\n",
    "val3 = int(f\"{value}{value}{value}\")\n",
    "\n",
    "total_sum = value + val2 + val3\n",
    "print(total_sum)\n"
   ]
  },
  {
   "cell_type": "code",
   "execution_count": 122,
   "metadata": {},
   "outputs": [],
   "source": [
    "# create the email subscriber object\n",
    "class Subscriber:\n",
    "    def __init__(self, name, email, email_list) -> None:\n",
    "        self.name = name\n",
    "        self.email = email\n",
    "        self.email_list = email_list\n",
    "        \n",
    "    def send_email(self):\n",
    "        return f\"email has successfuly been sent to {self.email}\""
   ]
  },
  {
   "cell_type": "code",
   "execution_count": 123,
   "metadata": {},
   "outputs": [],
   "source": [
    "# create the observer pattern object\n",
    "class Observer:\n",
    "    def __init__(self) -> None:\n",
    "        self.subscriber = dict()\n",
    "        \n",
    "    def register(self, who, callback=None):\n",
    "        if callback is None:\n",
    "            callback = who.send_email\n",
    "        self.subscriber[who] = callback\n",
    "    \n",
    "    def unregister(self, who):\n",
    "        del self.subscriber[who]\n",
    "        \n",
    "    def dispatch(self, email_list):\n",
    "        for subcriber in self.subscriber.keys():\n",
    "            if subcriber.email_list == email_list:\n",
    "                callback = self.subscriber[subcriber]\n",
    "                print(callback())"
   ]
  },
  {
   "cell_type": "code",
   "execution_count": 124,
   "metadata": {},
   "outputs": [],
   "source": [
    "# create instances of the subscriber object\n",
    "\n",
    "joe = Subscriber(\"joe\", \"joe@gmail.com\", \"Business\")\n",
    "susan = Subscriber(\"susan\", \"susan@gmail.com\", \"Family\")\n",
    "charles = Subscriber(\"charles\", \"charles@gmail.com\", \"Business\")\n",
    "naomi = Subscriber(\"naomi\", \"naomi@gmail.com\", \"Friends\")"
   ]
  },
  {
   "cell_type": "code",
   "execution_count": 125,
   "metadata": {},
   "outputs": [],
   "source": [
    "# instantiate the observer object\n",
    "observe = Observer()"
   ]
  },
  {
   "cell_type": "code",
   "execution_count": 126,
   "metadata": {},
   "outputs": [],
   "source": [
    "# register each instance of the subscriber object to the observer object\n",
    "users = [joe, susan, charles, naomi]\n",
    "\n",
    "for user in users:\n",
    "    observe.register(user)"
   ]
  },
  {
   "cell_type": "code",
   "execution_count": 128,
   "metadata": {},
   "outputs": [
    {
     "name": "stdout",
     "output_type": "stream",
     "text": [
      "email has successfuly been sent to susan@gmail.com\n"
     ]
    }
   ],
   "source": [
    "# execute the desired task.\n",
    "observe.dispatch(\"Family\")"
   ]
  },
  {
   "cell_type": "code",
   "execution_count": 152,
   "metadata": {},
   "outputs": [
    {
     "data": {
      "text/plain": [
       "[0, 1, 4, 9, 16, 25, 36, 49, 64, 81, 100]"
      ]
     },
     "execution_count": 152,
     "metadata": {},
     "output_type": "execute_result"
    }
   ],
   "source": [
    "list(map(lambda x: x**2, range(11)))"
   ]
  },
  {
   "cell_type": "code",
   "execution_count": 135,
   "metadata": {},
   "outputs": [
    {
     "data": {
      "text/plain": [
       "[0, 2, 4, 6, 8, 10]"
      ]
     },
     "execution_count": 135,
     "metadata": {},
     "output_type": "execute_result"
    }
   ],
   "source": [
    "[x for x in range(11) if x%2 == 0]"
   ]
  },
  {
   "cell_type": "code",
   "execution_count": 136,
   "metadata": {},
   "outputs": [
    {
     "name": "stdout",
     "output_type": "stream",
     "text": [
      "[0, 2, 4, 6, 8, 10]\n"
     ]
    }
   ],
   "source": [
    "x = []\n",
    "\n",
    "for i in range(11):\n",
    "    if i%2 == 0:\n",
    "        x.append(i)\n",
    "        \n",
    "print(x)"
   ]
  },
  {
   "cell_type": "code",
   "execution_count": 139,
   "metadata": {},
   "outputs": [
    {
     "data": {
      "text/plain": [
       "[['s', 's', 's', 's', 'n', 'k', 'h', 'a'],\n",
       " ['s', 's', 'h', 'h', 'h', 'g', 'd', 'b', 'a'],\n",
       " ['u', 's', 'k', 'j', 'j', 'h', 'g', 'f', 'e'],\n",
       " ['u', 's', 's', 's', 'j', 'j', 'j', 'j', 'h', 'd']]"
      ]
     },
     "execution_count": 139,
     "metadata": {},
     "output_type": "execute_result"
    }
   ],
   "source": [
    "words = ['anshssks', 'hahdbhsgs', 'hjsguejkf', 'hjdusjsjsj']\n",
    "\n",
    "list(map(lambda x: sorted(x, reverse=True), words))"
   ]
  },
  {
   "cell_type": "code",
   "execution_count": 158,
   "metadata": {},
   "outputs": [
    {
     "name": "stdout",
     "output_type": "stream",
     "text": [
      "[0, 31840, 63680, 95520, 127360, 159200, 191040, 222880, 254720, 286560, 318400]\n"
     ]
    }
   ],
   "source": [
    "# generate a list by multiplying values in list1 by the largest number in another list2.\n",
    "# use lambda function\n",
    "\n",
    "import random\n",
    "\n",
    "rand1 = random.randint(1, 200)\n",
    "list_1 = [x*rand1 for x in range(11)]\n",
    "\n",
    "rand2 = random.randint(1, 200)\n",
    "list_2 = [x*rand2 for x in range(6)]\n",
    "\n",
    "list_3 = [x*max(list_2) for x in list_1]\n"
   ]
  },
  {
   "cell_type": "code",
   "execution_count": 159,
   "metadata": {},
   "outputs": [
    {
     "data": {
      "text/plain": [
       "[0, 2, 4, 6, 8, 10]"
      ]
     },
     "execution_count": 159,
     "metadata": {},
     "output_type": "execute_result"
    }
   ],
   "source": [
    "[x for x in range(11) if x%2 ==0]"
   ]
  },
  {
   "cell_type": "code",
   "execution_count": 176,
   "metadata": {},
   "outputs": [],
   "source": [
    "age_calculator = lambda age: (2022 - int(age)) * 365"
   ]
  },
  {
   "cell_type": "code",
   "execution_count": 177,
   "metadata": {},
   "outputs": [
    {
     "data": {
      "text/plain": [
       "11680"
      ]
     },
     "execution_count": 177,
     "metadata": {},
     "output_type": "execute_result"
    }
   ],
   "source": [
    "age_calculator(\"1990\")"
   ]
  },
  {
   "cell_type": "code",
   "execution_count": 178,
   "metadata": {},
   "outputs": [],
   "source": [
    "exchange = lambda rate, amount: (rate * amount)\n"
   ]
  },
  {
   "cell_type": "code",
   "execution_count": 184,
   "metadata": {},
   "outputs": [
    {
     "data": {
      "text/plain": [
       "450000"
      ]
     },
     "execution_count": 184,
     "metadata": {},
     "output_type": "execute_result"
    }
   ],
   "source": [
    "exchange(450, 1000)"
   ]
  },
  {
   "cell_type": "code",
   "execution_count": 181,
   "metadata": {},
   "outputs": [],
   "source": [
    "def exch_cal(rate, amount):\n",
    "    return rate * amount"
   ]
  },
  {
   "cell_type": "code",
   "execution_count": 183,
   "metadata": {},
   "outputs": [
    {
     "data": {
      "text/plain": [
       "45000"
      ]
     },
     "execution_count": 183,
     "metadata": {},
     "output_type": "execute_result"
    }
   ],
   "source": [
    "exch_cal(450, 100)"
   ]
  },
  {
   "cell_type": "code",
   "execution_count": null,
   "metadata": {},
   "outputs": [],
   "source": []
  }
 ],
 "metadata": {
  "kernelspec": {
   "display_name": "Python 3.10.5 64-bit",
   "language": "python",
   "name": "python3"
  },
  "language_info": {
   "codemirror_mode": {
    "name": "ipython",
    "version": 3
   },
   "file_extension": ".py",
   "mimetype": "text/x-python",
   "name": "python",
   "nbconvert_exporter": "python",
   "pygments_lexer": "ipython3",
   "version": "3.10.5"
  },
  "orig_nbformat": 4,
  "vscode": {
   "interpreter": {
    "hash": "dd76d07c57a3ab2cb1dcf8820c1f63c2c17883b71c3e2e5d165c1bffc379a08f"
   }
  }
 },
 "nbformat": 4,
 "nbformat_minor": 2
}
