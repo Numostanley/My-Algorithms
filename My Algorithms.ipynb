{
 "cells": [
  {
   "cell_type": "code",
   "execution_count": 42,
   "metadata": {},
   "outputs": [],
   "source": [
    "def coke():\n",
    "    \n",
    "    print(\"Amount due: 50\")\n",
    "    \n",
    "    Allowed_coins = [25, 10, 5]\n",
    "    \n",
    "    coin = 0\n",
    "    \n",
    "    while coin < 50:\n",
    "        inserted = int(input(\"insert coin:\"))\n",
    "        \n",
    "        if inserted in Allowed_coins:\n",
    "            coin += inserted\n",
    "        \n",
    "        amount_due = 50 - coin\n",
    "        \n",
    "        if amount_due > 0:\n",
    "            print(f\"Amount due: {amount_due}\")\n",
    "                        \n",
    "    if coin >= 50:     \n",
    "        print(f\"Change owed: {coin - 50}\")\n",
    "        "
   ]
  },
  {
   "cell_type": "code",
   "execution_count": 43,
   "metadata": {},
   "outputs": [
    {
     "name": "stdout",
     "output_type": "stream",
     "text": [
      "Amount due: 50\n",
      "Amount due: 40\n",
      "Amount due: 15\n",
      "Change owed: 10\n"
     ]
    }
   ],
   "source": [
    "coke()"
   ]
  },
  {
   "cell_type": "code",
   "execution_count": 5,
   "metadata": {},
   "outputs": [],
   "source": [
    "a = [i for i in range(10)]"
   ]
  },
  {
   "cell_type": "code",
   "execution_count": 6,
   "metadata": {},
   "outputs": [
    {
     "data": {
      "text/plain": [
       "[0, 1, 2, 3, 4, 5, 6, 7, 8, 9]"
      ]
     },
     "execution_count": 6,
     "metadata": {},
     "output_type": "execute_result"
    }
   ],
   "source": [
    "a"
   ]
  },
  {
   "cell_type": "code",
   "execution_count": 7,
   "metadata": {},
   "outputs": [
    {
     "data": {
      "text/plain": [
       "8"
      ]
     },
     "execution_count": 7,
     "metadata": {},
     "output_type": "execute_result"
    }
   ],
   "source": [
    "a[-2]"
   ]
  },
  {
   "cell_type": "code",
   "execution_count": 22,
   "metadata": {},
   "outputs": [],
   "source": [
    "def callpoints(ops):\n",
    "    \n",
    "    result = []\n",
    "    \n",
    "    for i in ops:\n",
    "        try:\n",
    "            \n",
    "            if int(i):\n",
    "                \n",
    "                result.append(int(i))\n",
    "                \n",
    "        except:    \n",
    "            if i == \"C\" or i == \"c\":\n",
    "                result.pop()\n",
    "               \n",
    "            \n",
    "            if i == \"D\":\n",
    "                re = result[-1] *2\n",
    "                result.append(re)\n",
    "                \n",
    "            if i == \"+\":\n",
    "                res = result[-2] + result[-1]\n",
    "                result.append(res)\n",
    "            \n",
    "    return sum(result)"
   ]
  },
  {
   "cell_type": "code",
   "execution_count": 23,
   "metadata": {},
   "outputs": [
    {
     "data": {
      "text/plain": [
       "30"
      ]
     },
     "execution_count": 23,
     "metadata": {},
     "output_type": "execute_result"
    }
   ],
   "source": [
    "callpoints(['5','2', 'C', 'D', '+'])"
   ]
  },
  {
   "cell_type": "code",
   "execution_count": 1,
   "metadata": {},
   "outputs": [],
   "source": [
    "def isValid(s):\n",
    "    \n",
    "    result = []\n",
    "     \n",
    "    open_brc = ['[', '(', '{']\n",
    "    \n",
    "    closed_brc = [']', ')', '}']\n",
    "    \n",
    "    if len(s) % 2 != 0:\n",
    "        return False\n",
    "         \n",
    "    for i in s:\n",
    "        if i in open_brc:\n",
    "            result.append(open_brc.index(i))\n",
    "            \n",
    "        else:\n",
    "            if result == []:\n",
    "                return False\n",
    "        \n",
    "            result1 = result.pop()\n",
    "            if i != closed_brc[result1]:\n",
    "                return False       \n",
    "        \n",
    "    return result == []\n"
   ]
  },
  {
   "cell_type": "code",
   "execution_count": 91,
   "metadata": {},
   "outputs": [],
   "source": [
    "def isValid1(test_str):\n",
    "  '''Check if a given parentheses string is valid.\n",
    "\n",
    "  Args:\n",
    "    test_str (str): The parentheses string to be validated\n",
    "  \n",
    "  Returns:\n",
    "    True if test_str is valid; else False \n",
    "  '''\n",
    "  # len(test_str) is odd -> invalid!\n",
    "  if len(test_str)%2 != 0:\n",
    "    return False\n",
    "  # initialize parentheses dict\n",
    "  par_dict = {'(':')','{':'}','[':']'}\n",
    "  stack = []\n",
    "  for char in test_str:\n",
    "    # push opening bracket to stack\n",
    "    if char in par_dict.keys():\n",
    "      stack.append(char)\n",
    "    else:\n",
    "      # closing bracket without matching opening bracket\n",
    "      if stack == []:\n",
    "          return False\n",
    "      # if closing bracket -> pop stack top\n",
    "      open_brac = stack.pop()\n",
    "      # not matching bracket -> invalid!\n",
    "      if char != par_dict[open_brac]:\n",
    "        return False\n",
    "  return stack == []"
   ]
  },
  {
   "cell_type": "markdown",
   "metadata": {},
   "source": []
  },
  {
   "cell_type": "code",
   "execution_count": 3,
   "metadata": {},
   "outputs": [],
   "source": [
    "b = '[]{()}({()})'"
   ]
  },
  {
   "cell_type": "code",
   "execution_count": 4,
   "metadata": {},
   "outputs": [
    {
     "data": {
      "text/plain": [
       "True"
      ]
     },
     "execution_count": 4,
     "metadata": {},
     "output_type": "execute_result"
    }
   ],
   "source": [
    "isValid(b)"
   ]
  },
  {
   "cell_type": "code",
   "execution_count": 1,
   "metadata": {},
   "outputs": [
    {
     "data": {
      "text/plain": [
       "defaultdict(int, {'red': 4, 'blue': 2, 'green': 2, 'yellow': 1})"
      ]
     },
     "execution_count": 1,
     "metadata": {},
     "output_type": "execute_result"
    }
   ],
   "source": [
    "from collections import defaultdict\n",
    "\n",
    "dd = defaultdict(int)\n",
    "d = dict()\n",
    "\n",
    "words = str.split('red blue green red yellow blue red green red')\n",
    "\n",
    "for word in words:\n",
    "    dd[word] += 1\n",
    "    \n",
    "dd"
   ]
  },
  {
   "cell_type": "code",
   "execution_count": 7,
   "metadata": {},
   "outputs": [
    {
     "data": {
      "text/plain": [
       "{'red': True, 'yellow': False, 'blue': True, 'green': True}"
      ]
     },
     "execution_count": 7,
     "metadata": {},
     "output_type": "execute_result"
    }
   ],
   "source": [
    "words = str.split('red blue green red yellow blue red green red')\n",
    "for word in words:\n",
    "    d[word] = isprimary(word)\n",
    "    \n",
    "d"
   ]
  },
  {
   "cell_type": "code",
   "execution_count": 6,
   "metadata": {},
   "outputs": [],
   "source": [
    "def isprimary(c):\n",
    "    if (c=='red') or (c == 'blue') or (c == 'green'):\n",
    "        return True\n",
    "    else:\n",
    "        return False"
   ]
  },
  {
   "cell_type": "code",
   "execution_count": 41,
   "metadata": {},
   "outputs": [
    {
     "name": "stdout",
     "output_type": "stream",
     "text": [
      "users: 2000 \n",
      "760000\n",
      "users: 3000 \n",
      "1140000\n",
      "users: 4500 \n",
      "1710000\n",
      "users: 6750 \n",
      "2565000\n",
      "users: 10125 \n",
      "3847500\n",
      "users: 15187 \n",
      "5771060\n",
      "users: 22780 \n",
      "8656400\n",
      "users: 34170 \n",
      "12984600\n",
      "users: 51255 \n",
      "19476900\n",
      "users: 76882 \n",
      "29215160\n",
      "users: 115323 \n",
      "43822740\n",
      "users: 172984 \n",
      "65733920\n",
      "sum = 195683280 \n"
     ]
    }
   ],
   "source": [
    "users = 2000\n",
    "_sum = []\n",
    "\n",
    "for i in range(12):\n",
    "    \n",
    "    print(f'users: {users} ')\n",
    "    \n",
    "    average_data = 20\n",
    "    avrg_profit_per_gig = 19\n",
    "    \n",
    "    monthly_revenue = users * average_data * avrg_profit_per_gig\n",
    "    \n",
    "    _sum.append(monthly_revenue)\n",
    "    \n",
    "    print(monthly_revenue)\n",
    "    \n",
    "    users = int((users) + (users/100 * 50))\n",
    "    \n",
    "print(f'sum = {sum(_sum)} ')\n",
    "    "
   ]
  },
  {
   "cell_type": "code",
   "execution_count": 1,
   "metadata": {},
   "outputs": [],
   "source": [
    "# This algorithm is used to right rotate an array by a specified k position\n",
    "\n",
    "# Function to right-rotate a list by one position\n",
    "def rightRotateByOne(A):\n",
    " \n",
    "    last = A[-1]\n",
    "    for i in reversed(range(len(A) - 1)):\n",
    "        A[i + 1] = A[i]\n",
    " \n",
    "    A[0] = last\n",
    " \n",
    " \n",
    "# Function to right-rotate a list by `k` positions\n",
    "def rightRotate(A, k):\n",
    " \n",
    "    # base case: invalid input\n",
    "    if k < 0 or k >= len(A):\n",
    "        return\n",
    " \n",
    "    for i in range(k):\n",
    "        rightRotateByOne(A)"
   ]
  },
  {
   "cell_type": "code",
   "execution_count": 2,
   "metadata": {},
   "outputs": [
    {
     "name": "stdout",
     "output_type": "stream",
     "text": [
      "[5, 6, 7, 1, 2, 3, 4]\n"
     ]
    }
   ],
   "source": [
    "\n",
    "A = [1, 2, 3, 4, 5, 6, 7]\n",
    "k = 3\n",
    " \n",
    "rightRotate(A, k)\n",
    "print(A)"
   ]
  },
  {
   "cell_type": "code",
   "execution_count": 3,
   "metadata": {},
   "outputs": [],
   "source": [
    "class MyOperandFinder:\n",
    "    def __init__(self, number):\n",
    "        self.number = number\n",
    "        self.operand = 0\n",
    "       \n",
    "        \n",
    "    def __iter__(self):\n",
    "        return self\n",
    "    \n",
    "    def __next__(self):\n",
    "        _sum = self.number - self.operand\n",
    "        if _sum < self.operand:\n",
    "            raise StopIteration\n",
    "        self.operand += 1\n",
    "        \n",
    "        return self.operand\n",
    "    \n",
    "    @classmethod\n",
    "    def findOperand(cls, number):\n",
    "        operand = list(cls(number)).pop()\n",
    "        \n",
    "        return operand\n",
    "    "
   ]
  },
  {
   "cell_type": "code",
   "execution_count": 4,
   "metadata": {},
   "outputs": [
    {
     "data": {
      "text/plain": [
       "15"
      ]
     },
     "execution_count": 4,
     "metadata": {},
     "output_type": "execute_result"
    }
   ],
   "source": [
    "MyOperandFinder.findOperand(29)"
   ]
  },
  {
   "cell_type": "code",
   "execution_count": 6,
   "metadata": {},
   "outputs": [
    {
     "name": "stdout",
     "output_type": "stream",
     "text": [
      "30\n",
      "30\n"
     ]
    }
   ],
   "source": [
    "class Money2:\n",
    "    def __init__(self, dollar, cents):\n",
    "        self._dollars = dollar\n",
    "        self.cents = cents\n",
    "    \n",
    "    @property   \n",
    "    def dollars(self):\n",
    "        return self._dollars\n",
    "    \n",
    "    \n",
    "momo = Money2(30, 14)\n",
    "\n",
    "print(momo.dollars)\n",
    "print(momo._dollars)"
   ]
  },
  {
   "cell_type": "code",
   "execution_count": null,
   "metadata": {},
   "outputs": [],
   "source": []
  }
 ],
 "metadata": {
  "kernelspec": {
   "display_name": "Python 3.10.5 64-bit",
   "language": "python",
   "name": "python3"
  },
  "language_info": {
   "codemirror_mode": {
    "name": "ipython",
    "version": 3
   },
   "file_extension": ".py",
   "mimetype": "text/x-python",
   "name": "python",
   "nbconvert_exporter": "python",
   "pygments_lexer": "ipython3",
   "version": "3.10.5"
  },
  "orig_nbformat": 4,
  "vscode": {
   "interpreter": {
    "hash": "dd76d07c57a3ab2cb1dcf8820c1f63c2c17883b71c3e2e5d165c1bffc379a08f"
   }
  }
 },
 "nbformat": 4,
 "nbformat_minor": 2
}
