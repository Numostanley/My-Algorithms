{
 "cells": [
  {
   "cell_type": "code",
   "execution_count": 36,
   "metadata": {},
   "outputs": [],
   "source": [
    "def coke():\n",
    "    \n",
    "    print(\"Amount due: 50\")\n",
    "    \n",
    "    Allowed_coins = [25, 10, 5]\n",
    "    \n",
    "    coin = 0\n",
    "    \n",
    "    while coin < 50:\n",
    "        inserted = int(input(\"insert coin:\"))\n",
    "        \n",
    "        if inserted in Allowed_coins:\n",
    "            coin += inserted\n",
    "        \n",
    "        amount_due = 50 - coin\n",
    "        \n",
    "        if amount_due > 0:\n",
    "            print(f\"Amount due: {amount_due}\")\n",
    "                        \n",
    "    if coin >= 50:     \n",
    "        print(f\"Change owed: {coin - 50}\")\n",
    "        "
   ]
  },
  {
   "cell_type": "code",
   "execution_count": 37,
   "metadata": {},
   "outputs": [
    {
     "name": "stdout",
     "output_type": "stream",
     "text": [
      "Amount due: 50\n",
      "Amount due: 25\n",
      "Amount due: 25\n",
      "Amount due: 25\n",
      "Amount due: 25\n",
      "Amount due: 25\n",
      "Amount due: 25\n",
      "Change owed: 0\n"
     ]
    }
   ],
   "source": [
    "coke()"
   ]
  },
  {
   "cell_type": "code",
   "execution_count": 38,
   "metadata": {},
   "outputs": [],
   "source": [
    "def callpoints(ops):\n",
    "    result = []\n",
    "    for i in ops:\n",
    "        try:\n",
    "            if int(i): \n",
    "                result.append(int(i))    \n",
    "        except:    \n",
    "            if i == \"C\" or i == \"c\":\n",
    "                result.pop()\n",
    "            if i == \"D\":\n",
    "                re = result[-1] *2\n",
    "                result.append(re)\n",
    "            if i == \"+\":\n",
    "                res = result[-2] + result[-1]\n",
    "                result.append(res)\n",
    "    return sum(result)"
   ]
  },
  {
   "cell_type": "code",
   "execution_count": 39,
   "metadata": {},
   "outputs": [
    {
     "data": {
      "text/plain": [
       "30"
      ]
     },
     "execution_count": 39,
     "metadata": {},
     "output_type": "execute_result"
    }
   ],
   "source": [
    "callpoints(['5','2', 'C', 'D', '+'])"
   ]
  },
  {
   "cell_type": "code",
   "execution_count": 40,
   "metadata": {},
   "outputs": [],
   "source": [
    "def isValid(s):\n",
    "    \n",
    "    result = []\n",
    "     \n",
    "    open_brc = ['[', '(', '{']\n",
    "    \n",
    "    closed_brc = [']', ')', '}']\n",
    "    \n",
    "    if len(s) % 2 != 0:\n",
    "        return False\n",
    "         \n",
    "    for i in s:\n",
    "        if i in open_brc:\n",
    "            result.append(open_brc.index(i))\n",
    "            \n",
    "        else:\n",
    "            if result == []:\n",
    "                return False\n",
    "        \n",
    "            result1 = result.pop()\n",
    "            if i != closed_brc[result1]:\n",
    "                return False       \n",
    "        \n",
    "    return result == []\n"
   ]
  },
  {
   "cell_type": "code",
   "execution_count": 41,
   "metadata": {},
   "outputs": [],
   "source": [
    "def isValid1(test_str):\n",
    "  '''Check if a given parentheses string is valid.\n",
    "\n",
    "  Args:\n",
    "    test_str (str): The parentheses string to be validated\n",
    "  \n",
    "  Returns:\n",
    "    True if test_str is valid; else False \n",
    "  '''\n",
    "  # len(test_str) is odd -> invalid!\n",
    "  if len(test_str)%2 != 0:\n",
    "    return False\n",
    "  # initialize parentheses dict\n",
    "  par_dict = {'(':')','{':'}','[':']'}\n",
    "  stack = []\n",
    "  for char in test_str:\n",
    "    # push opening bracket to stack\n",
    "    if char in par_dict.keys():\n",
    "      stack.append(char)\n",
    "    else:\n",
    "      # closing bracket without matching opening bracket\n",
    "      if stack == []:\n",
    "          return False\n",
    "      # if closing bracket -> pop stack top\n",
    "      open_brac = stack.pop()\n",
    "      # not matching bracket -> invalid!\n",
    "      if char != par_dict[open_brac]:\n",
    "        return False\n",
    "  return stack == []"
   ]
  },
  {
   "cell_type": "code",
   "execution_count": 42,
   "metadata": {},
   "outputs": [],
   "source": [
    "b = '[]{()}({()})'"
   ]
  },
  {
   "cell_type": "code",
   "execution_count": 43,
   "metadata": {},
   "outputs": [
    {
     "data": {
      "text/plain": [
       "True"
      ]
     },
     "execution_count": 43,
     "metadata": {},
     "output_type": "execute_result"
    }
   ],
   "source": [
    "isValid(b)"
   ]
  },
  {
   "cell_type": "code",
   "execution_count": 44,
   "metadata": {},
   "outputs": [
    {
     "data": {
      "text/plain": [
       "defaultdict(int, {'red': 4, 'blue': 2, 'green': 2, 'yellow': 1})"
      ]
     },
     "execution_count": 44,
     "metadata": {},
     "output_type": "execute_result"
    }
   ],
   "source": [
    "from collections import defaultdict\n",
    "\n",
    "dd = defaultdict(int)\n",
    "words = str.split('red blue green red yellow blue red green red')\n",
    "for word in words:\n",
    "    dd[word] += 1\n",
    "    \n",
    "dd"
   ]
  },
  {
   "cell_type": "code",
   "execution_count": 45,
   "metadata": {},
   "outputs": [
    {
     "data": {
      "text/plain": [
       "{'red': True, 'blue': True, 'green': True, 'yellow': False}"
      ]
     },
     "execution_count": 45,
     "metadata": {},
     "output_type": "execute_result"
    }
   ],
   "source": [
    "def isprimary(c):\n",
    "    if (c=='red') or (c == 'blue') or (c == 'green'):\n",
    "        return True\n",
    "    else:\n",
    "        return False\n",
    "    \n",
    "words = str.split('red blue green red yellow blue red green red')\n",
    "d = dict()\n",
    "for word in words:\n",
    "    d[word] = isprimary(word)\n",
    "    \n",
    "d"
   ]
  },
  {
   "cell_type": "code",
   "execution_count": 46,
   "metadata": {},
   "outputs": [
    {
     "name": "stdout",
     "output_type": "stream",
     "text": [
      "users: 2000 \n",
      "760000\n",
      "users: 3000 \n",
      "1140000\n",
      "users: 4500 \n",
      "1710000\n",
      "users: 6750 \n",
      "2565000\n",
      "users: 10125 \n",
      "3847500\n",
      "users: 15187 \n",
      "5771060\n",
      "users: 22780 \n",
      "8656400\n",
      "users: 34170 \n",
      "12984600\n",
      "users: 51255 \n",
      "19476900\n",
      "users: 76882 \n",
      "29215160\n",
      "users: 115323 \n",
      "43822740\n",
      "users: 172984 \n",
      "65733920\n",
      "sum = 195683280 \n"
     ]
    }
   ],
   "source": [
    "users = 2000\n",
    "_sum = []\n",
    "\n",
    "for i in range(12):\n",
    "    \n",
    "    print(f'users: {users} ')\n",
    "    \n",
    "    average_data = 20\n",
    "    avrg_profit_per_gig = 19\n",
    "    \n",
    "    monthly_revenue = users * average_data * avrg_profit_per_gig\n",
    "    \n",
    "    _sum.append(monthly_revenue)\n",
    "    \n",
    "    print(monthly_revenue)\n",
    "    \n",
    "    users = int((users) + (users/100 * 50))\n",
    "    \n",
    "print(f'sum = {sum(_sum)} ')\n",
    "    "
   ]
  },
  {
   "cell_type": "code",
   "execution_count": 47,
   "metadata": {},
   "outputs": [],
   "source": [
    "# This algorithm is used to right rotate an array by a specified k position\n",
    "\n",
    "# Function to right-rotate a list by one position\n",
    "def rightRotateByOne(A):\n",
    " \n",
    "    last = A[-1]\n",
    "    for i in reversed(range(len(A) - 1)):\n",
    "        A[i + 1] = A[i]\n",
    " \n",
    "    A[0] = last\n",
    " \n",
    " \n",
    "# Function to right-rotate a list by `k` positions\n",
    "def rightRotate(A, k):\n",
    " \n",
    "    # base case: invalid input\n",
    "    if k < 0 or k >= len(A):\n",
    "        return\n",
    " \n",
    "    for i in range(k):\n",
    "        rightRotateByOne(A)"
   ]
  },
  {
   "cell_type": "code",
   "execution_count": 48,
   "metadata": {},
   "outputs": [
    {
     "name": "stdout",
     "output_type": "stream",
     "text": [
      "[5, 6, 7, 1, 2, 3, 4]\n"
     ]
    }
   ],
   "source": [
    "\n",
    "A = [1, 2, 3, 4, 5, 6, 7]\n",
    "k = 3\n",
    " \n",
    "rightRotate(A, k)\n",
    "print(A)"
   ]
  },
  {
   "cell_type": "code",
   "execution_count": 49,
   "metadata": {},
   "outputs": [],
   "source": [
    "class MyOperandFinder:\n",
    "    def __init__(self, number):\n",
    "        self.number = number\n",
    "        self.operand = 0\n",
    "       \n",
    "        \n",
    "    def __iter__(self):\n",
    "        return self\n",
    "    \n",
    "    def __next__(self):\n",
    "        _sum = self.number - self.operand\n",
    "        if _sum < self.operand:\n",
    "            raise StopIteration\n",
    "        self.operand += 1\n",
    "        \n",
    "        return self.operand\n",
    "    \n",
    "    @classmethod\n",
    "    def findOperand(cls, number):\n",
    "        operand = list(cls(number)).pop()\n",
    "        \n",
    "        return operand\n",
    "    "
   ]
  },
  {
   "cell_type": "code",
   "execution_count": 50,
   "metadata": {},
   "outputs": [
    {
     "data": {
      "text/plain": [
       "15"
      ]
     },
     "execution_count": 50,
     "metadata": {},
     "output_type": "execute_result"
    }
   ],
   "source": [
    "MyOperandFinder.findOperand(29)"
   ]
  },
  {
   "cell_type": "code",
   "execution_count": 51,
   "metadata": {},
   "outputs": [
    {
     "name": "stdout",
     "output_type": "stream",
     "text": [
      "30\n",
      "30\n"
     ]
    }
   ],
   "source": [
    "class Money2:\n",
    "    def __init__(self, dollar, cents):\n",
    "        self._dollars = dollar\n",
    "        self.cents = cents\n",
    "    \n",
    "    @property   \n",
    "    def dollars(self):\n",
    "        return self._dollars\n",
    "    \n",
    "    \n",
    "momo = Money2(30, 14)\n",
    "\n",
    "print(momo.dollars)\n",
    "print(momo._dollars)"
   ]
  },
  {
   "cell_type": "code",
   "execution_count": 52,
   "metadata": {},
   "outputs": [
    {
     "data": {
      "text/plain": [
       "5.333333333333333"
      ]
     },
     "execution_count": 52,
     "metadata": {},
     "output_type": "execute_result"
    }
   ],
   "source": [
    "multi = 8\n",
    "a = lambda x, y : (x * multi) / y\n",
    "\n",
    "a(2,3)"
   ]
  },
  {
   "cell_type": "code",
   "execution_count": 53,
   "metadata": {},
   "outputs": [
    {
     "name": "stdout",
     "output_type": "stream",
     "text": [
      "3464\n"
     ]
    }
   ],
   "source": [
    "import random\n",
    "\n",
    "def func(type_ = 's'):\n",
    "    if type_ == 's':\n",
    "        return 'Mark'\n",
    "    elif type_=='i':\n",
    "        return random.randint(0,1000)\n",
    "    \n",
    "def dec(func, type_):\n",
    "    x = 8 \n",
    "    def wrapper():\n",
    "        value = func(type_)\n",
    "        \n",
    "        if isinstance(value, int):\n",
    "            return value * x\n",
    "        elif isinstance(value, str):\n",
    "            return 'Hi' + value\n",
    "    return wrapper\n",
    "\n",
    "print(dec(func, 'i')())"
   ]
  },
  {
   "cell_type": "code",
   "execution_count": 54,
   "metadata": {},
   "outputs": [
    {
     "name": "stdout",
     "output_type": "stream",
     "text": [
      "richard ['John'] Elly ['John']\n"
     ]
    }
   ],
   "source": [
    "class A:\n",
    "    brothers = []\n",
    "    \n",
    "    def __init__(self, name):\n",
    "        self.name= name\n",
    "\n",
    "a = A('richard')\n",
    "b = A('Elly')\n",
    "\n",
    "a.brothers.append('John')\n",
    "\n",
    "print(a.name, a.brothers, b.name, b.brothers)      "
   ]
  },
  {
   "cell_type": "code",
   "execution_count": 55,
   "metadata": {},
   "outputs": [
    {
     "name": "stdout",
     "output_type": "stream",
     "text": [
      "28\n"
     ]
    }
   ],
   "source": [
    "from datetime import datetime, date\n",
    "\n",
    "class Human:\n",
    "    name = None\n",
    "    gender = None\n",
    "    birthdate = None\n",
    "    \n",
    "    def __getattr__(self, name):\n",
    "        if name == 'age':\n",
    "            return (date.today() - self.birthdate)/365\n",
    "        \n",
    "        else:\n",
    "            return None\n",
    "        \n",
    "    def __getattribute__(self, name):\n",
    "        return object.__getattribute__(self, name)\n",
    "    \n",
    "h = Human()\n",
    "h.birthdate = date(1996, 4, 23)\n",
    "\n",
    "h.age = 28\n",
    "\n",
    "print(h.age)\n",
    "    "
   ]
  },
  {
   "cell_type": "code",
   "execution_count": 56,
   "metadata": {},
   "outputs": [
    {
     "name": "stdout",
     "output_type": "stream",
     "text": [
      "2\n"
     ]
    }
   ],
   "source": [
    "# Hackerrank picking numbers\n",
    "\n",
    "def pickingNumbers(a):\n",
    "    # Write your code here\n",
    "    a.sort()\n",
    "    def diff(i, j):\n",
    "        if i < j:\n",
    "            return j - i\n",
    "        else:\n",
    "            return i -j\n",
    "        \n",
    "    subsets = []\n",
    "    for i, elem1 in enumerate(a):\n",
    "        subset = [elem1]\n",
    "        for j, elem2 in enumerate(a[i+1:]):\n",
    "            try:\n",
    "                elem3 = a[i+j]\n",
    "                if diff(elem1, elem2)<=1 and diff(elem2, elem3)<=1:\n",
    "                    subset.append(elem2)\n",
    "            except IndexError:\n",
    "                pass\n",
    "        if len(subset) >= 2:\n",
    "            subsets.append(subset)\n",
    "    return max([len(subset) for subset in subsets])\n",
    "\n",
    "print(pickingNumbers([98, 3, 99, 1, 97, 2]))\n"
   ]
  },
  {
   "cell_type": "code",
   "execution_count": 57,
   "metadata": {},
   "outputs": [
    {
     "name": "stdout",
     "output_type": "stream",
     "text": [
      "1\n"
     ]
    }
   ],
   "source": [
    "def countingValleys(steps, path):\n",
    "    sea_level = 0\n",
    "    valleys = 0\n",
    "    \n",
    "    for i in path:\n",
    "        if i == 'U':\n",
    "            sea_level += 1\n",
    "            if sea_level == 0:\n",
    "                valleys += 1\n",
    "            \n",
    "        elif i == 'D':\n",
    "            sea_level -= 1\n",
    "    \n",
    "    return valleys\n",
    "\n",
    "print(countingValleys(8,'UDDDUDUU'))"
   ]
  },
  {
   "cell_type": "code",
   "execution_count": 58,
   "metadata": {},
   "outputs": [
    {
     "name": "stdout",
     "output_type": "stream",
     "text": [
      "[2, 1]\n"
     ]
    }
   ],
   "source": [
    "def pageCount(n, p):\n",
    "    # Write your code here\n",
    "    counts = []\n",
    "    pages = [i for i in range(1, n+1)]\n",
    "    # calculate from front\n",
    " \n",
    "    if p == pages[0]:\n",
    "        counts.append(0)\n",
    "    else:\n",
    "        current = 0\n",
    "        count = 0\n",
    "        while len(counts) < 1:\n",
    "            if p in pages[current+1:current+3]:\n",
    "                count += 1\n",
    "                counts.append(count)\n",
    "            else:\n",
    "                count += 1\n",
    "                current += 2\n",
    "            \n",
    "    # calculate from back\n",
    "    if pages[-1] % 2 == 0:\n",
    "        if p == pages[-1]:\n",
    "            count = 0\n",
    "            counts.append(count)\n",
    "        else:\n",
    "            current = -1\n",
    "            count = 0\n",
    "            while len(counts) < 2:\n",
    "                if p in pages[current-2:current]:\n",
    "                    count += 1\n",
    "                    counts.append(count)\n",
    "                else:\n",
    "                    count += 1\n",
    "                    current -= 2\n",
    "    else:\n",
    "        if p in pages[-2:]:\n",
    "            count = 0\n",
    "            counts.append(count)\n",
    "        else:\n",
    "            current = -1\n",
    "            count = 0\n",
    "            while len(counts) < 2:\n",
    "                if p in pages[current-3:current-1]:\n",
    "                    count += 1\n",
    "                    counts.append(count)\n",
    "                else:\n",
    "                    count += 1\n",
    "                    current -= 2\n",
    "    return counts\n",
    "    \n",
    "\n",
    "print(pageCount(6,5))"
   ]
  },
  {
   "cell_type": "code",
   "execution_count": 59,
   "metadata": {},
   "outputs": [
    {
     "name": "stdout",
     "output_type": "stream",
     "text": [
      "9\n"
     ]
    }
   ],
   "source": [
    "# https://www.hackerrank.com/challenges/between-two-sets/problem?isFullScreen=true\n",
    "\n",
    "def getTotalX(a, b):\n",
    "    # Write your code here\n",
    "    a_set = set()\n",
    "    b_set = set()\n",
    "    for i in range(1, b[-1]+1):\n",
    "        if all([i % v == 0 for v in a]):\n",
    "            a_set.add(i)\n",
    "        if all([v % i == 0 for v in b]):\n",
    "            b_set.add(i)\n",
    "    return len(a_set.intersection(b_set))\n",
    "\n",
    "a = [1]\n",
    "b = [100]\n",
    "\n",
    "print(getTotalX(a,b))"
   ]
  },
  {
   "cell_type": "code",
   "execution_count": 60,
   "metadata": {},
   "outputs": [
    {
     "name": "stdout",
     "output_type": "stream",
     "text": [
      "[1, 2, 2, 3, 5, 6]\n"
     ]
    }
   ],
   "source": [
    "def merge_sort(num1: list, m: int, num2: list, n: int):\n",
    "    append_index = [i + n for i, v in enumerate(num1[m:])]\n",
    "    for i, v in enumerate(num2):\n",
    "        num1[append_index[i]] = v\n",
    "    num1.sort()\n",
    "        \n",
    "num1 = [1,2,3,0,0,0]\n",
    "num2 = [2,5,6]\n",
    "\n",
    "merge_sort(num1, 3, num2, 3)\n",
    "\n",
    "print(num1)"
   ]
  },
  {
   "cell_type": "code",
   "execution_count": 61,
   "metadata": {},
   "outputs": [
    {
     "name": "stdout",
     "output_type": "stream",
     "text": [
      "   #\n",
      "  ##\n",
      " ###\n",
      "####\n"
     ]
    }
   ],
   "source": [
    "def staircase(n):\n",
    "    # Write your code here\n",
    "    for i in range(1, n+1):\n",
    "        space_count = n - i\n",
    "        spaces = \" \"\n",
    "        space_string = spaces * space_count\n",
    "        hash_str = \"#\"\n",
    "        hash_count = hash_str * i\n",
    "        print(space_string + hash_count)\n",
    "\n",
    "if __name__ == '__main__':\n",
    "    n = 4\n",
    "\n",
    "    staircase(n)"
   ]
  },
  {
   "cell_type": "code",
   "execution_count": 62,
   "metadata": {},
   "outputs": [
    {
     "name": "stdout",
     "output_type": "stream",
     "text": [
      "2\n"
     ]
    }
   ],
   "source": [
    "def diagonalDifference(arr):\n",
    "    # Write your code here\n",
    "    first_diagonal = []\n",
    "    second_diagonal = []\n",
    "    for i in range(len(arr)):\n",
    "        first_diagonal.append(arr[i][i])\n",
    "        \n",
    "    index = [x for x in range(len(arr))]\n",
    "    \n",
    "    for i in range(len(arr)):\n",
    "        second_diagonal.append(arr[i][index[-1]])\n",
    "        index.pop()\n",
    "      \n",
    "    if sum(first_diagonal) > sum(second_diagonal):\n",
    "        return sum(first_diagonal) - sum(second_diagonal)\n",
    "    else:\n",
    "        return sum(second_diagonal) - sum(first_diagonal)\n",
    "\n",
    "\n",
    "arr = [[1,2,3],[4,5,6],[9,8,9]]\n",
    "print(diagonalDifference(arr))"
   ]
  },
  {
   "cell_type": "code",
   "execution_count": 63,
   "metadata": {},
   "outputs": [
    {
     "name": "stdout",
     "output_type": "stream",
     "text": [
      "Array is sorted in 5 swaps.\n",
      "First Element: 1\n",
      "Last Element: 4\n"
     ]
    }
   ],
   "source": [
    "# bubble sort\n",
    "a = [4,3,1,2]\n",
    "\n",
    "swaps = 0\n",
    "\n",
    "iteration_number = len(a)-1\n",
    "for i in range(iteration_number):\n",
    "    for j in range(iteration_number):\n",
    "        if a[j] > a[j+1]:\n",
    "            temp = a[j]\n",
    "            a[j] = a[j+1]\n",
    "            a[j+1] = temp\n",
    "            swaps += 1\n",
    "                \n",
    "print(f\"Array is sorted in {swaps} swaps.\")\n",
    "print(f\"First Element: {a[0]}\")\n",
    "print(f\"Last Element: {a[-1]}\")"
   ]
  },
  {
   "cell_type": "code",
   "execution_count": 64,
   "metadata": {},
   "outputs": [
    {
     "name": "stdout",
     "output_type": "stream",
     "text": [
      "793397\n"
     ]
    }
   ],
   "source": [
    "palis = []\n",
    "\n",
    "def build_lookup_table():\n",
    "    for i in range(100001, 1000000):\n",
    "        if str(i) == str(i)[::-1]:\n",
    "            if any(i%j == 0 for j in range(i//1000+1, 1000)):\n",
    "                # print([i%j == 0 for j in range(i//1000+1, 1000)])\n",
    "                palis.append(i)\n",
    "\n",
    "def find_largest_palindrome(n: int) -> int:\n",
    "    return next(p for p in palis[::-1] if p < n)\n",
    "\n",
    "build_lookup_table()\n",
    "\n",
    "print(find_largest_palindrome(800000))"
   ]
  },
  {
   "cell_type": "code",
   "execution_count": 65,
   "metadata": {},
   "outputs": [
    {
     "name": "stdout",
     "output_type": "stream",
     "text": [
      "19\n"
     ]
    }
   ],
   "source": [
    "# find the max value for hour glass pattern sum. \n",
    "arr = [[1, 1, 1, 0, 0, 0],\n",
    "        [0, 1, 0, 0, 0, 0],\n",
    "        [1, 1, 1, 0, 0, 0],\n",
    "        [0, 0, 2, 4, 4, 0],\n",
    "        [0, 0, 0, 2, 0, 0],\n",
    "        [0, 0, 1, 2, 4, 0]]\n",
    "\n",
    "values = []\n",
    "\n",
    "def hour_glass(start_index, arr):\n",
    "    index = [i for i, _ in enumerate(arr)]\n",
    "    max_glass = []\n",
    "    \n",
    "    while True:\n",
    "        glass_top = []\n",
    "        glass_mid = int\n",
    "        glass_buttom = []\n",
    "\n",
    "        new_index = index[:3]\n",
    "        if len(new_index) < 3:\n",
    "            return max(max_glass)\n",
    "        try:\n",
    "            glass_top.extend(arr[start_index][new_index[0]:new_index[-1]+1])\n",
    "            glass_mid = arr[start_index+1][new_index[1]]\n",
    "            glass_buttom.extend(arr[start_index+2][new_index[0]:new_index[-1]+1])\n",
    "\n",
    "            glass_max = sum(glass_top) + glass_mid + sum(glass_buttom)\n",
    "            max_glass.append(glass_max)\n",
    "            index.pop(0)\n",
    "        except IndexError:\n",
    "            break\n",
    "        \n",
    "\n",
    "for index, value in enumerate(arr):\n",
    "    result = hour_glass(index, arr)\n",
    "    values.append(result)\n",
    "\n",
    "values = filter(lambda x : type(x) == int, values)\n",
    "\n",
    "print(max(values))"
   ]
  },
  {
   "cell_type": "code",
   "execution_count": 66,
   "metadata": {},
   "outputs": [
    {
     "name": "stdout",
     "output_type": "stream",
     "text": [
      "5\n"
     ]
    }
   ],
   "source": [
    "# Function to convert decimal number\n",
    "# to binary using recursion\n",
    "def decimalToBinary(n):\n",
    "    return \"{0:b}\".format(int(n))\n",
    "\n",
    "# Function to get maximum consecutive 1's in n's binary representation\n",
    "def getMaxOccurrence(bin):\n",
    "    # bin = list(str(bin))\n",
    "    # counts = []\n",
    "    # count = 1\n",
    "    \n",
    "    bin = bin.split(\"0\")\n",
    "    count = [len(num) for num in bin]\n",
    "    \n",
    "    # for index, value in enumerate(bin):\n",
    "    #     if value == '1':\n",
    "    #         previous_index = index - 1\n",
    "    #         if previous_index >= 0:\n",
    "    #             previous_value = bin[previous_index]\n",
    "    #         elif previous_index < 0:\n",
    "    #             previous_value = None\n",
    "                \n",
    "    #         if previous_value == value:\n",
    "    #             count += 1\n",
    "    #         elif previous_value != None or previous_value != value:\n",
    "    #             counts.append(count)\n",
    "    #             count = 1\n",
    "    # counts.append(count)\n",
    "    return max(count)\n",
    "\n",
    "# Driver Code\n",
    "if __name__ == '__main__':\n",
    "\t\n",
    "\t# decimal value\n",
    "\tdec_val = 125\n",
    "\t\n",
    "\t# Calling function\n",
    "\tbin = decimalToBinary(dec_val)\n",
    " \n",
    "print(getMaxOccurrence(bin))"
   ]
  },
  {
   "cell_type": "code",
   "execution_count": 67,
   "metadata": {},
   "outputs": [
    {
     "name": "stdout",
     "output_type": "stream",
     "text": [
      "2 day(s) to countdown.\n",
      "1 day(s) to countdown.\n",
      "Happy New Year!\n"
     ]
    }
   ],
   "source": [
    "def countDownTimer(n):\n",
    "    count = n\n",
    "    def inner():\n",
    "        nonlocal count\n",
    "        if count > 0:\n",
    "            count -= 1\n",
    "            if count == 0:\n",
    "                return \"Happy New Year!\"\n",
    "            elif count > 0:\n",
    "                return f\"{count} day(s) to countdown.\"\n",
    "    return inner\n",
    "\n",
    "count = countDownTimer(3)\n",
    "\n",
    "print(count())\n",
    "print(count())\n",
    "print(count())"
   ]
  },
  {
   "cell_type": "code",
   "execution_count": 68,
   "metadata": {},
   "outputs": [
    {
     "name": "stdout",
     "output_type": "stream",
     "text": [
      "19\n"
     ]
    }
   ],
   "source": [
    "def lucky_number(matrix: list) -> int:\n",
    "    \n",
    "    transpose_matrix = []\n",
    "\n",
    "    # transpose the original matrix\n",
    "    for i in range(len(matrix[0])):\n",
    "        row = []\n",
    "        for item in matrix:\n",
    "            row.append(item[i])\n",
    "        transpose_matrix.append(row)\n",
    "    \n",
    "    # get a list of all the maximum number \n",
    "    # in each row of the transposed matrix\n",
    "    maximums = [max(i) for i in transpose_matrix]\n",
    "\n",
    "    # check if the minimum number in each row of the original matrix \n",
    "    # is in the list of maximums to get the lucky number\n",
    "    lucky_number = [min(row) for row in matrix if min(row) in maximums].pop()\n",
    "    \n",
    "    #return the lucky number    \n",
    "    return lucky_number\n",
    "\n",
    "\n",
    "if __name__ == '__main__':\n",
    "    \n",
    "    matrix =    [[21,  45, 19],\n",
    "                [ 9, 19,  6],\n",
    "                [12, 14, 15]]\n",
    "    \n",
    "    print(lucky_number(matrix))\n"
   ]
  },
  {
   "cell_type": "code",
   "execution_count": 69,
   "metadata": {},
   "outputs": [
    {
     "data": {
      "text/plain": [
       "[6, 5, 4, 2, 1]"
      ]
     },
     "execution_count": 69,
     "metadata": {},
     "output_type": "execute_result"
    }
   ],
   "source": [
    "def climbingLeaderboard(ranked, player):\n",
    "    # Write your code here\n",
    "    sorted_rank_list = sorted(list(set(ranked)), reverse=True)\n",
    "    ranks = []\n",
    "    for score in player:\n",
    "        while sorted_rank_list and score >= sorted_rank_list[-1]:\n",
    "            sorted_rank_list.pop()\n",
    "        ranks.append(len(sorted_rank_list)+1)\n",
    "        # sorted_rank_list.append(score)\n",
    "        # new_ranks = sorted(sorted_rank_list, reverse=True)\n",
    "        # sorted_rank_list.pop()\n",
    "        # ranks.append(new_ranks.index(score)+1)\n",
    "    return ranks\n",
    "    \n",
    "climbingLeaderboard([100, 90, 90, 80, 75, 60], [50, 65, 77, 90, 102])"
   ]
  },
  {
   "cell_type": "code",
   "execution_count": 70,
   "metadata": {},
   "outputs": [
    {
     "name": "stdout",
     "output_type": "stream",
     "text": [
      "2\n"
     ]
    }
   ],
   "source": [
    "def utopianTree(n):\n",
    "    # Write your code here\n",
    "    season = 'spring'\n",
    "    h = 1\n",
    "    for i in range(n):\n",
    "        if season == \"spring\":\n",
    "            h *= 2\n",
    "            season = 'summer'\n",
    "        elif season == 'summer':\n",
    "            h += 1\n",
    "            season = 'spring'\n",
    "    return h\n",
    "\n",
    "print(utopianTree(1))"
   ]
  },
  {
   "cell_type": "code",
   "execution_count": 71,
   "metadata": {},
   "outputs": [
    {
     "data": {
      "text/plain": [
       "21"
      ]
     },
     "execution_count": 71,
     "metadata": {},
     "output_type": "execute_result"
    }
   ],
   "source": [
    "int(''.join(reversed('12')))"
   ]
  },
  {
   "cell_type": "code",
   "execution_count": 72,
   "metadata": {},
   "outputs": [
    {
     "data": {
      "text/plain": [
       "2"
      ]
     },
     "execution_count": 72,
     "metadata": {},
     "output_type": "execute_result"
    }
   ],
   "source": [
    "def beautifulDays(i, j, k):\n",
    "    # Write your code here\n",
    "    beautiful_days = 0\n",
    "    for val in range(i,j+1):\n",
    "        reverse = int(''.join(reversed(str(val))))\n",
    "        if abs(val - reverse) % k == 0:\n",
    "            beautiful_days += 1\n",
    "    return beautiful_days\n",
    "\n",
    "beautifulDays(20,23,6)\n"
   ]
  },
  {
   "cell_type": "code",
   "execution_count": 73,
   "metadata": {},
   "outputs": [
    {
     "data": {
      "text/plain": [
       "2068789129"
      ]
     },
     "execution_count": 73,
     "metadata": {},
     "output_type": "execute_result"
    }
   ],
   "source": [
    "from math import floor\n",
    "def viralAdvertising(n):\n",
    "    # Write your code here\n",
    "    liked = []\n",
    "    like_count = 0\n",
    "    viewers = 5\n",
    "    for i in range(n):\n",
    "        liked.append(floor(viewers/2))\n",
    "        like_count = liked[-1]\n",
    "        viewers = like_count * 3\n",
    "        \n",
    "    return sum(liked)\n",
    "\n",
    "viralAdvertising(50)"
   ]
  },
  {
   "cell_type": "code",
   "execution_count": 74,
   "metadata": {},
   "outputs": [
    {
     "data": {
      "text/plain": [
       "3"
      ]
     },
     "execution_count": 74,
     "metadata": {},
     "output_type": "execute_result"
    }
   ],
   "source": [
    "def saveThePrisoner(n, m, s):\n",
    "    # Write your code here\n",
    "    prisoners = [i for i in range(1,n+1)]\n",
    "    position = s\n",
    "    for i in range(m):\n",
    "        try:\n",
    "            current = prisoners[position-1]\n",
    "            if i != range(m)[-1]:\n",
    "                position += 1\n",
    "        except IndexError:\n",
    "            position = s\n",
    "            \n",
    "    return position\n",
    "\n",
    "saveThePrisoner(4, 6, 2)\n",
    "             \n",
    "        "
   ]
  },
  {
   "cell_type": "code",
   "execution_count": 75,
   "metadata": {},
   "outputs": [
    {
     "data": {
      "text/plain": [
       "[1, 4]"
      ]
     },
     "execution_count": 75,
     "metadata": {},
     "output_type": "execute_result"
    }
   ],
   "source": [
    "def circularArrayRotation(a, k, queries):\n",
    "    # Write your code here\n",
    "    A = a\n",
    "    k = k\n",
    "    for _ in range(k):\n",
    "        last = A.pop()\n",
    "        A.insert(0, last)\n",
    "    \n",
    "    return [A[q] for q in queries]\n",
    "\n",
    "circularArrayRotation([1,2,3,4,5], 2, [2,0])"
   ]
  },
  {
   "cell_type": "code",
   "execution_count": 76,
   "metadata": {},
   "outputs": [
    {
     "data": {
      "text/plain": [
       "[4, 2, 5, 1, 3]"
      ]
     },
     "execution_count": 76,
     "metadata": {},
     "output_type": "execute_result"
    }
   ],
   "source": [
    "def permutationEquation(p):\n",
    "    # Write your code here\n",
    "    y = []\n",
    "    for i in range(1, len(p)+1):\n",
    "        for j in range(1, len(p)+1):\n",
    "            if p[p[j-1]-1] == i:\n",
    "                y.append(j)\n",
    "    return y\n",
    "\n",
    "permutationEquation([5,2,1,3,4])"
   ]
  },
  {
   "cell_type": "code",
   "execution_count": null,
   "metadata": {},
   "outputs": [],
   "source": []
  }
 ],
 "metadata": {
  "kernelspec": {
   "display_name": "Python 3.10.5 64-bit",
   "language": "python",
   "name": "python3"
  },
  "language_info": {
   "codemirror_mode": {
    "name": "ipython",
    "version": 3
   },
   "file_extension": ".py",
   "mimetype": "text/x-python",
   "name": "python",
   "nbconvert_exporter": "python",
   "pygments_lexer": "ipython3",
   "version": "3.10.5"
  },
  "orig_nbformat": 4,
  "vscode": {
   "interpreter": {
    "hash": "dd76d07c57a3ab2cb1dcf8820c1f63c2c17883b71c3e2e5d165c1bffc379a08f"
   }
  }
 },
 "nbformat": 4,
 "nbformat_minor": 2
}
